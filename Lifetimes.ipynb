{
 "metadata": {
  "name": "",
  "signature": "sha256:ad80a39a2956134dfbd9f982521bb841c667afaee69bd92c6f8cbdebe4b528b2"
 },
 "nbformat": 3,
 "nbformat_minor": 0,
 "worksheets": [
  {
   "cells": [
    {
     "cell_type": "heading",
     "level": 3,
     "metadata": {},
     "source": [
      "Understanding Lifetimes package"
     ]
    },
    {
     "cell_type": "heading",
     "level": 6,
     "metadata": {},
     "source": [
      "Source: https://dataorigami.net/blogs/napkin-folding/18868411-lifetimes-measuring-customer-lifetime-value-in-python"
     ]
    },
    {
     "cell_type": "code",
     "collapsed": false,
     "input": [
      "import numpy as np\n",
      "import pandas as pd\n",
      "import matplotlib.pyplot as plt\n",
      "import sys\n",
      "import seaborn as sns\n",
      "import sklearn as skl\n",
      "\n",
      "#Enable inline plotting\n",
      "%matplotlib inline\n",
      "\n",
      "print 'Python version: '+ sys.version\n",
      "print 'Pandas version: '+pd.__version__\n",
      "\n",
      "\n",
      "random.seed(666)"
     ],
     "language": "python",
     "metadata": {},
     "outputs": [
      {
       "output_type": "stream",
       "stream": "stdout",
       "text": [
        "Python version: 2.7.9 | 64-bit | (default, May 21 2015, 03:59:03) [MSC v.1500 64 bit (AMD64)]\n",
        "Pandas version: 0.16.2\n"
       ]
      }
     ],
     "prompt_number": 1
    },
    {
     "cell_type": "code",
     "collapsed": false,
     "input": [
      "#import lifetimes\n",
      "import sys\n",
      "sys.path.append('C:\\Python27\\Lib\\site-packages')\n",
      "sys.path"
     ],
     "language": "python",
     "metadata": {},
     "outputs": [
      {
       "metadata": {},
       "output_type": "pyout",
       "prompt_number": 3,
       "text": [
        "['',\n",
        " 'C:\\\\Users\\\\angad.gadre\\\\AppData\\\\Local\\\\Enthought\\\\Canopy\\\\User\\\\Scripts\\\\python27.zip',\n",
        " 'C:\\\\Users\\\\angad.gadre\\\\AppData\\\\Local\\\\Enthought\\\\Canopy\\\\App\\\\appdata\\\\canopy-1.5.4.3105.win-x86_64\\\\DLLs',\n",
        " 'C:\\\\Users\\\\angad.gadre\\\\AppData\\\\Local\\\\Enthought\\\\Canopy\\\\App\\\\appdata\\\\canopy-1.5.4.3105.win-x86_64\\\\lib',\n",
        " 'C:\\\\Users\\\\angad.gadre\\\\AppData\\\\Local\\\\Enthought\\\\Canopy\\\\App\\\\appdata\\\\canopy-1.5.4.3105.win-x86_64\\\\lib\\\\plat-win',\n",
        " 'C:\\\\Users\\\\angad.gadre\\\\AppData\\\\Local\\\\Enthought\\\\Canopy\\\\App\\\\appdata\\\\canopy-1.5.4.3105.win-x86_64\\\\lib\\\\lib-tk',\n",
        " 'C:\\\\Users\\\\angad.gadre\\\\AppData\\\\Local\\\\Enthought\\\\Canopy\\\\App\\\\appdata\\\\canopy-1.5.4.3105.win-x86_64',\n",
        " 'C:\\\\Users\\\\angad.gadre\\\\AppData\\\\Local\\\\Enthought\\\\Canopy\\\\User',\n",
        " 'C:\\\\Users\\\\angad.gadre\\\\AppData\\\\Local\\\\Enthought\\\\Canopy\\\\User\\\\lib\\\\site-packages',\n",
        " 'C:\\\\Users\\\\angad.gadre\\\\AppData\\\\Local\\\\Enthought\\\\Canopy\\\\User\\\\lib\\\\site-packages\\\\win32',\n",
        " 'C:\\\\Users\\\\angad.gadre\\\\AppData\\\\Local\\\\Enthought\\\\Canopy\\\\User\\\\lib\\\\site-packages\\\\win32\\\\lib',\n",
        " 'C:\\\\Users\\\\angad.gadre\\\\AppData\\\\Local\\\\Enthought\\\\Canopy\\\\User\\\\lib\\\\site-packages\\\\Pythonwin',\n",
        " 'C:\\\\Users\\\\angad.gadre\\\\AppData\\\\Local\\\\Enthought\\\\Canopy\\\\App\\\\appdata',\n",
        " 'C:\\\\Users\\\\angad.gadre\\\\AppData\\\\Local\\\\Enthought\\\\Canopy\\\\App\\\\appdata\\\\canopy-1.5.4.3105.win-x86_64\\\\lib\\\\site-packages',\n",
        " 'C:\\\\Users\\\\angad.gadre\\\\AppData\\\\Local\\\\Enthought\\\\Canopy\\\\App\\\\appdata\\\\canopy-1.5.4.3105.win-x86_64\\\\lib\\\\site-packages\\\\win32',\n",
        " 'C:\\\\Users\\\\angad.gadre\\\\AppData\\\\Local\\\\Enthought\\\\Canopy\\\\App\\\\appdata\\\\canopy-1.5.4.3105.win-x86_64\\\\lib\\\\site-packages\\\\win32\\\\lib',\n",
        " 'C:\\\\Users\\\\angad.gadre\\\\AppData\\\\Local\\\\Enthought\\\\Canopy\\\\App\\\\appdata\\\\canopy-1.5.4.3105.win-x86_64\\\\lib\\\\site-packages\\\\Pythonwin',\n",
        " 'C:\\\\Users\\\\angad.gadre\\\\AppData\\\\Local\\\\Enthought\\\\Canopy\\\\App\\\\appdata\\\\canopy-1.5.4.3105.win-x86_64\\\\lib\\\\site-packages\\\\IPython\\\\extensions',\n",
        " 'C:\\\\Users\\\\angad.gadre\\\\.ipython',\n",
        " 'C:\\\\Python27\\\\Lib\\\\site-packages']"
       ]
      }
     ],
     "prompt_number": 3
    },
    {
     "cell_type": "code",
     "collapsed": false,
     "input": [
      "from lifetimes.datasets import load_cdnow\n",
      "data = load_cdnow(index_col=[0])\n",
      "data.head()"
     ],
     "language": "python",
     "metadata": {},
     "outputs": [
      {
       "html": [
        "<div style=\"max-width:1500px;overflow:auto;\">\n",
        "<table border=\"1\" class=\"dataframe\">\n",
        "  <thead>\n",
        "    <tr style=\"text-align: right;\">\n",
        "      <th></th>\n",
        "      <th>frequency</th>\n",
        "      <th>recency</th>\n",
        "      <th>T</th>\n",
        "    </tr>\n",
        "    <tr>\n",
        "      <th>ID</th>\n",
        "      <th></th>\n",
        "      <th></th>\n",
        "      <th></th>\n",
        "    </tr>\n",
        "  </thead>\n",
        "  <tbody>\n",
        "    <tr>\n",
        "      <th>1</th>\n",
        "      <td>2</td>\n",
        "      <td>30.43</td>\n",
        "      <td>38.86</td>\n",
        "    </tr>\n",
        "    <tr>\n",
        "      <th>2</th>\n",
        "      <td>1</td>\n",
        "      <td>1.71</td>\n",
        "      <td>38.86</td>\n",
        "    </tr>\n",
        "    <tr>\n",
        "      <th>3</th>\n",
        "      <td>0</td>\n",
        "      <td>0.00</td>\n",
        "      <td>38.86</td>\n",
        "    </tr>\n",
        "    <tr>\n",
        "      <th>4</th>\n",
        "      <td>0</td>\n",
        "      <td>0.00</td>\n",
        "      <td>38.86</td>\n",
        "    </tr>\n",
        "    <tr>\n",
        "      <th>5</th>\n",
        "      <td>0</td>\n",
        "      <td>0.00</td>\n",
        "      <td>38.86</td>\n",
        "    </tr>\n",
        "  </tbody>\n",
        "</table>\n",
        "</div>"
       ],
       "metadata": {},
       "output_type": "pyout",
       "prompt_number": 4,
       "text": [
        "    frequency  recency      T\n",
        "ID                           \n",
        "1           2    30.43  38.86\n",
        "2           1     1.71  38.86\n",
        "3           0     0.00  38.86\n",
        "4           0     0.00  38.86\n",
        "5           0     0.00  38.86"
       ]
      }
     ],
     "prompt_number": 4
    },
    {
     "cell_type": "code",
     "collapsed": false,
     "input": [
      "from lifetimes import BetaGeoFitter\n",
      "# similar API to scikit-learn and lifelines\n",
      "bgf = BetaGeoFitter(penalizer_coef = 0.0)\n",
      "bgf.fit(data['frequency'], data['recency'], data['T'])"
     ],
     "language": "python",
     "metadata": {},
     "outputs": [
      {
       "metadata": {},
       "output_type": "pyout",
       "prompt_number": 5,
       "text": [
        "<lifetimes.BetaGeoFitter: fitted with 2357 subjects, r: 0.24, alpha: 4.41, a: 0.79, b: 2.43>"
       ]
      }
     ],
     "prompt_number": 5
    },
    {
     "cell_type": "code",
     "collapsed": false,
     "input": [
      "from lifetimes.plotting import plot_frequency_recency_matrix\n",
      "\n",
      "plot_frequency_recency_matrix(bgf)"
     ],
     "language": "python",
     "metadata": {},
     "outputs": [
      {
       "metadata": {},
       "output_type": "pyout",
       "prompt_number": 6,
       "text": [
        "<matplotlib.axes._subplots.AxesSubplot at 0x9b90710>"
       ]
      },
      {
       "metadata": {},
       "output_type": "display_data",
       "png": "[encoded data removed]",
       "text": [
        "<matplotlib.figure.Figure at 0x7fb8860>"
       ]
      }
     ],
     "prompt_number": 6
    },
    {
     "cell_type": "markdown",
     "metadata": {},
     "source": [
      "what I see here is this. \n",
      "\n",
      "1)Firstly, we need to define what 1 unit of time is for us based on our business needs and objective; it could be a promotional cycle (week, month - so that we calibrate our contact strategy) or fiscal month (so that it may be a good calibration for forecasting demand/customer equity). 1 unit of time - of the top of my head, the more granular this unit is the more sophisticated personalization is possible - so 1 day would be the most granular (considering the fact that we have brick and mortar stores and web business) to 1 fiscal month.\n",
      "\n",
      "2) Bottom-right region of customers are our best customers - why? because they are the ones to have the highest expected purchases in the next unit of time. Do we need marketing to push these customers to purchase? or would that marketing spend be better used to entice the customers with a lower expectation of being alive? Need more thought here, will come back to this point later"
     ]
    },
    {
     "cell_type": "code",
     "collapsed": false,
     "input": [
      "from lifetimes.plotting import plot_probability_alive_matrix\n",
      "\n",
      "plot_probability_alive_matrix(bgf)"
     ],
     "language": "python",
     "metadata": {},
     "outputs": [
      {
       "metadata": {},
       "output_type": "pyout",
       "prompt_number": 7,
       "text": [
        "<matplotlib.axes._subplots.AxesSubplot at 0xc82c710>"
       ]
      },
      {
       "metadata": {},
       "output_type": "display_data",
       "png": "[encoded data removed]",
       "text": [
        "<matplotlib.figure.Figure at 0xc8364e0>"
       ]
      }
     ],
     "prompt_number": 7
    },
    {
     "cell_type": "code",
     "collapsed": false,
     "input": [
      "#Ranking customers from best to worst (tail has the worst customers)\n",
      "t = 1\n",
      "data['predicted_purchases'] = bgf.conditional_expected_number_of_purchases_up_to_time(t, data['frequency'],data['recency'], data['T'])\n",
      "data.sort('predicted_purchases').tail(5)"
     ],
     "language": "python",
     "metadata": {},
     "outputs": [
      {
       "html": [
        "<div style=\"max-width:1500px;overflow:auto;\">\n",
        "<table border=\"1\" class=\"dataframe\">\n",
        "  <thead>\n",
        "    <tr style=\"text-align: right;\">\n",
        "      <th></th>\n",
        "      <th>frequency</th>\n",
        "      <th>recency</th>\n",
        "      <th>T</th>\n",
        "      <th>predicted_purchases</th>\n",
        "    </tr>\n",
        "    <tr>\n",
        "      <th>ID</th>\n",
        "      <th></th>\n",
        "      <th></th>\n",
        "      <th></th>\n",
        "      <th></th>\n",
        "    </tr>\n",
        "  </thead>\n",
        "  <tbody>\n",
        "    <tr>\n",
        "      <th>509</th>\n",
        "      <td>18</td>\n",
        "      <td>35.14</td>\n",
        "      <td>35.86</td>\n",
        "      <td>0.424877</td>\n",
        "    </tr>\n",
        "    <tr>\n",
        "      <th>841</th>\n",
        "      <td>19</td>\n",
        "      <td>34.00</td>\n",
        "      <td>34.14</td>\n",
        "      <td>0.474738</td>\n",
        "    </tr>\n",
        "    <tr>\n",
        "      <th>1981</th>\n",
        "      <td>17</td>\n",
        "      <td>28.43</td>\n",
        "      <td>28.86</td>\n",
        "      <td>0.486526</td>\n",
        "    </tr>\n",
        "    <tr>\n",
        "      <th>157</th>\n",
        "      <td>29</td>\n",
        "      <td>37.71</td>\n",
        "      <td>38.00</td>\n",
        "      <td>0.662396</td>\n",
        "    </tr>\n",
        "    <tr>\n",
        "      <th>1516</th>\n",
        "      <td>26</td>\n",
        "      <td>30.86</td>\n",
        "      <td>31.00</td>\n",
        "      <td>0.710623</td>\n",
        "    </tr>\n",
        "  </tbody>\n",
        "</table>\n",
        "</div>"
       ],
       "metadata": {},
       "output_type": "pyout",
       "prompt_number": 8,
       "text": [
        "      frequency  recency      T  predicted_purchases\n",
        "ID                                                  \n",
        "509          18    35.14  35.86             0.424877\n",
        "841          19    34.00  34.14             0.474738\n",
        "1981         17    28.43  28.86             0.486526\n",
        "157          29    37.71  38.00             0.662396\n",
        "1516         26    30.86  31.00             0.710623"
       ]
      }
     ],
     "prompt_number": 8
    },
    {
     "cell_type": "code",
     "collapsed": false,
     "input": [
      "#Assesing model fit\n",
      "\n",
      "from lifetimes.plotting import plot_period_transactions\n",
      "plot_period_transactions(bgf)"
     ],
     "language": "python",
     "metadata": {},
     "outputs": [
      {
       "metadata": {},
       "output_type": "pyout",
       "prompt_number": 9,
       "text": [
        "<matplotlib.axes._subplots.AxesSubplot at 0xc7494e0>"
       ]
      },
      {
       "metadata": {},
       "output_type": "display_data",
       "png": "[encoded data removed]",
       "text": [
        "<matplotlib.figure.Figure at 0xcaee588>"
       ]
      }
     ],
     "prompt_number": 9
    },
    {
     "cell_type": "code",
     "collapsed": false,
     "input": [
      "#Using transactional datasets, testing utility functions within lifetimes package\n",
      "\n",
      "from lifetimes.datasets import load_transaction_data\n",
      "from lifetimes.utils import summary_data_from_transaction_data\n",
      "\n",
      "transaction_data = load_transaction_data()\n",
      "transaction_data.head()"
     ],
     "language": "python",
     "metadata": {},
     "outputs": [
      {
       "html": [
        "<div style=\"max-width:1500px;overflow:auto;\">\n",
        "<table border=\"1\" class=\"dataframe\">\n",
        "  <thead>\n",
        "    <tr style=\"text-align: right;\">\n",
        "      <th></th>\n",
        "      <th>date</th>\n",
        "      <th>id</th>\n",
        "    </tr>\n",
        "  </thead>\n",
        "  <tbody>\n",
        "    <tr>\n",
        "      <th>0</th>\n",
        "      <td>2014-03-08 00:00:00</td>\n",
        "      <td>0</td>\n",
        "    </tr>\n",
        "    <tr>\n",
        "      <th>1</th>\n",
        "      <td>2014-05-21 00:00:00</td>\n",
        "      <td>1</td>\n",
        "    </tr>\n",
        "    <tr>\n",
        "      <th>2</th>\n",
        "      <td>2014-03-14 00:00:00</td>\n",
        "      <td>2</td>\n",
        "    </tr>\n",
        "    <tr>\n",
        "      <th>3</th>\n",
        "      <td>2014-04-09 00:00:00</td>\n",
        "      <td>2</td>\n",
        "    </tr>\n",
        "    <tr>\n",
        "      <th>4</th>\n",
        "      <td>2014-05-21 00:00:00</td>\n",
        "      <td>2</td>\n",
        "    </tr>\n",
        "  </tbody>\n",
        "</table>\n",
        "</div>"
       ],
       "metadata": {},
       "output_type": "pyout",
       "prompt_number": 10,
       "text": [
        "                  date  id\n",
        "0  2014-03-08 00:00:00   0\n",
        "1  2014-05-21 00:00:00   1\n",
        "2  2014-03-14 00:00:00   2\n",
        "3  2014-04-09 00:00:00   2\n",
        "4  2014-05-21 00:00:00   2"
       ]
      }
     ],
     "prompt_number": 10
    },
    {
     "cell_type": "code",
     "collapsed": false,
     "input": [
      "#looking at the summary utility function\n",
      "\n",
      "summary = summary_data_from_transaction_data(transaction_data, 'id', 'date', observation_period_end = '2014-12-31')\n",
      "                                             \n",
      "print summary.head()"
     ],
     "language": "python",
     "metadata": {},
     "outputs": [
      {
       "output_type": "stream",
       "stream": "stdout",
       "text": [
        "    frequency  recency    T\n",
        "id                         \n",
        "0           0        0  298\n",
        "1           0        0  224\n",
        "2           6      142  292\n",
        "3           0        0  147\n",
        "4           2        9  183\n"
       ]
      }
     ],
     "prompt_number": 11
    },
    {
     "cell_type": "code",
     "collapsed": false,
     "input": [
      "# fitting new/test data to the trained NBD model\n",
      "bgf.fit(summary['frequency'], summary['recency'], summary['T'])"
     ],
     "language": "python",
     "metadata": {},
     "outputs": [
      {
       "metadata": {},
       "output_type": "pyout",
       "prompt_number": 12,
       "text": [
        "<lifetimes.BetaGeoFitter: fitted with 5000 subjects, r: 0.16, alpha: 1.86, a: 1.85, b: 3.18>"
       ]
      }
     ],
     "prompt_number": 12
    },
    {
     "cell_type": "code",
     "collapsed": false,
     "input": [
      "# utility function - train and hold-out set partioning\n",
      "\n",
      "from lifetimes.utils import calibration_and_holdout_data\n",
      "\n",
      "summary_cal_holdout = calibration_and_holdout_data(transaction_data, 'id', 'date', calibration_period_end = '2014-09-01', observation_period_end = '2014-12-31')\n",
      "\n",
      "print summary_cal_holdout.head()"
     ],
     "language": "python",
     "metadata": {},
     "outputs": [
      {
       "output_type": "stream",
       "stream": "stdout",
       "text": [
        "    frequency_cal  recency_cal  T_cal  frequency_holdout  duration_holdout\n",
        "id                                                                        \n",
        "0               0            0    177                  0               121\n",
        "1               0            0    103                  0               121\n",
        "2               6          142    171                  0               121\n",
        "3               0            0     26                  0               121\n",
        "4               2            9     62                  0               121\n"
       ]
      }
     ],
     "prompt_number": 13
    },
    {
     "cell_type": "markdown",
     "metadata": {},
     "source": [
      "Note: I don't understand what the _duration_holdout and frequency_holdout_ fields are doing alongside the _cal columns_. Aren't the cal columns used to fit a model to the observation data and then test the model fit to the holdout set - which should essentially have the same features as the observation model. By the looks of it there is no _recency_holdout_. Need further thought on this."
     ]
    },
    {
     "cell_type": "code",
     "collapsed": false,
     "input": [
      "from lifetimes.plotting import plot_calibration_purchases_vs_holdout_purchases\n",
      "\n",
      "bgf.fit(summary_cal_holdout['frequency_cal'],summary_cal_holdout['recency_cal'], summary_cal_holdout['T_cal'])\n",
      "plot_calibration_purchases_vs_holdout_purchases(bgf,summary_cal_holdout)"
     ],
     "language": "python",
     "metadata": {},
     "outputs": [
      {
       "metadata": {},
       "output_type": "pyout",
       "prompt_number": 14,
       "text": [
        "<matplotlib.axes._subplots.AxesSubplot at 0xcf572e8>"
       ]
      },
      {
       "metadata": {},
       "output_type": "display_data",
       "png": "[encoded data removed]",
       "text": [
        "<matplotlib.figure.Figure at 0xcf436a0>"
       ]
      }
     ],
     "prompt_number": 14
    },
    {
     "cell_type": "code",
     "collapsed": false,
     "input": [
      "# looking at a individual's prediction from the model prediction\n",
      "\n",
      "#Predict purchases in 10 periods\n",
      "t = 10 \n",
      "individual = summary.iloc[20]\n",
      "\n",
      "# function: 'bgf.conditional_expected_number_of_purchases_up_to_time' gives the prediction. Alias function predict used below\n",
      "bgf.predict(t, individual['frequency'], individual['recency'], individual['T'])"
     ],
     "language": "python",
     "metadata": {},
     "outputs": [
      {
       "metadata": {},
       "output_type": "pyout",
       "prompt_number": 15,
       "text": [
        "0.057651167418913539"
       ]
      }
     ],
     "prompt_number": 15
    },
    {
     "cell_type": "code",
     "collapsed": false,
     "input": [
      "# This plot is cool. Looking at the P(Alive) mass function for an individual at the times of his/her purchases within the observed window\n",
      "\n",
      "from lifetimes.plotting import plot_history_alive\n",
      "\n",
      "id = 35\n",
      "days_since_birth = 200\n",
      "sp_trans = transaction_data.ix[transaction_data['id'] == id]\n",
      "plot_history_alive(bgf, days_since_birth, sp_trans, 'date')"
     ],
     "language": "python",
     "metadata": {},
     "outputs": [
      {
       "metadata": {},
       "output_type": "pyout",
       "prompt_number": 16,
       "text": [
        "<matplotlib.axes._subplots.AxesSubplot at 0xda67f98>"
       ]
      },
      {
       "metadata": {},
       "output_type": "display_data",
       "png": "[encoded data removed]",
       "text": [
        "<matplotlib.figure.Figure at 0xda677b8>"
       ]
      }
     ],
     "prompt_number": 16
    },
    {
     "cell_type": "code",
     "collapsed": false,
     "input": [
      "# Finally coming to the meat of the estimation process - bringing into the picture - the monetary value.\n",
      "\n",
      "from lifetimes.datasets import load_summary_data_with_monetary_value\n",
      "\n",
      "summary_with_money_value = load_summary_data_with_monetary_value()\n",
      "\n",
      "returning_customers_summary = summary_with_money_value[summary_with_money_value['frequency'] >0]\n",
      "\n",
      "summary_with_money_value.head()"
     ],
     "language": "python",
     "metadata": {},
     "outputs": [
      {
       "html": [
        "<div style=\"max-width:1500px;overflow:auto;\">\n",
        "<table border=\"1\" class=\"dataframe\">\n",
        "  <thead>\n",
        "    <tr style=\"text-align: right;\">\n",
        "      <th></th>\n",
        "      <th>frequency</th>\n",
        "      <th>recency</th>\n",
        "      <th>T</th>\n",
        "      <th>monetary_value</th>\n",
        "    </tr>\n",
        "    <tr>\n",
        "      <th>customer_id</th>\n",
        "      <th></th>\n",
        "      <th></th>\n",
        "      <th></th>\n",
        "      <th></th>\n",
        "    </tr>\n",
        "  </thead>\n",
        "  <tbody>\n",
        "    <tr>\n",
        "      <th>1</th>\n",
        "      <td>2</td>\n",
        "      <td>30.43</td>\n",
        "      <td>38.86</td>\n",
        "      <td>22.35</td>\n",
        "    </tr>\n",
        "    <tr>\n",
        "      <th>2</th>\n",
        "      <td>1</td>\n",
        "      <td>1.71</td>\n",
        "      <td>38.86</td>\n",
        "      <td>11.77</td>\n",
        "    </tr>\n",
        "    <tr>\n",
        "      <th>3</th>\n",
        "      <td>0</td>\n",
        "      <td>0.00</td>\n",
        "      <td>38.86</td>\n",
        "      <td>0.00</td>\n",
        "    </tr>\n",
        "    <tr>\n",
        "      <th>4</th>\n",
        "      <td>0</td>\n",
        "      <td>0.00</td>\n",
        "      <td>38.86</td>\n",
        "      <td>0.00</td>\n",
        "    </tr>\n",
        "    <tr>\n",
        "      <th>5</th>\n",
        "      <td>0</td>\n",
        "      <td>0.00</td>\n",
        "      <td>38.86</td>\n",
        "      <td>0.00</td>\n",
        "    </tr>\n",
        "  </tbody>\n",
        "</table>\n",
        "</div>"
       ],
       "metadata": {},
       "output_type": "pyout",
       "prompt_number": 17,
       "text": [
        "             frequency  recency      T  monetary_value\n",
        "customer_id                                           \n",
        "1                    2    30.43  38.86           22.35\n",
        "2                    1     1.71  38.86           11.77\n",
        "3                    0     0.00  38.86            0.00\n",
        "4                    0     0.00  38.86            0.00\n",
        "5                    0     0.00  38.86            0.00"
       ]
      }
     ],
     "prompt_number": 17
    },
    {
     "cell_type": "code",
     "collapsed": false,
     "input": [
      "returning_customers_summary.tail()"
     ],
     "language": "python",
     "metadata": {},
     "outputs": [
      {
       "html": [
        "<div style=\"max-width:1500px;overflow:auto;\">\n",
        "<table border=\"1\" class=\"dataframe\">\n",
        "  <thead>\n",
        "    <tr style=\"text-align: right;\">\n",
        "      <th></th>\n",
        "      <th>frequency</th>\n",
        "      <th>recency</th>\n",
        "      <th>T</th>\n",
        "      <th>monetary_value</th>\n",
        "    </tr>\n",
        "    <tr>\n",
        "      <th>customer_id</th>\n",
        "      <th></th>\n",
        "      <th></th>\n",
        "      <th></th>\n",
        "      <th></th>\n",
        "    </tr>\n",
        "  </thead>\n",
        "  <tbody>\n",
        "    <tr>\n",
        "      <th>2348</th>\n",
        "      <td>7</td>\n",
        "      <td>24.14</td>\n",
        "      <td>27</td>\n",
        "      <td>16.36</td>\n",
        "    </tr>\n",
        "    <tr>\n",
        "      <th>2349</th>\n",
        "      <td>1</td>\n",
        "      <td>9.29</td>\n",
        "      <td>27</td>\n",
        "      <td>13.97</td>\n",
        "    </tr>\n",
        "    <tr>\n",
        "      <th>2350</th>\n",
        "      <td>2</td>\n",
        "      <td>21.86</td>\n",
        "      <td>27</td>\n",
        "      <td>18.56</td>\n",
        "    </tr>\n",
        "    <tr>\n",
        "      <th>2354</th>\n",
        "      <td>5</td>\n",
        "      <td>24.29</td>\n",
        "      <td>27</td>\n",
        "      <td>44.93</td>\n",
        "    </tr>\n",
        "    <tr>\n",
        "      <th>2356</th>\n",
        "      <td>4</td>\n",
        "      <td>26.57</td>\n",
        "      <td>27</td>\n",
        "      <td>33.32</td>\n",
        "    </tr>\n",
        "  </tbody>\n",
        "</table>\n",
        "</div>"
       ],
       "metadata": {},
       "output_type": "pyout",
       "prompt_number": 22,
       "text": [
        "             frequency  recency   T  monetary_value\n",
        "customer_id                                        \n",
        "2348                 7    24.14  27           16.36\n",
        "2349                 1     9.29  27           13.97\n",
        "2350                 2    21.86  27           18.56\n",
        "2354                 5    24.29  27           44.93\n",
        "2356                 4    26.57  27           33.32"
       ]
      }
     ],
     "prompt_number": 22
    },
    {
     "cell_type": "code",
     "collapsed": false,
     "input": [
      "# Gamma-gamma model used. Check if model assumptions hold - 1)Correlation between frequency and monetary_value should be close to zero\n",
      "returning_customers_summary[['monetary_value', 'frequency']].corr()"
     ],
     "language": "python",
     "metadata": {},
     "outputs": [
      {
       "html": [
        "<div style=\"max-width:1500px;overflow:auto;\">\n",
        "<table border=\"1\" class=\"dataframe\">\n",
        "  <thead>\n",
        "    <tr style=\"text-align: right;\">\n",
        "      <th></th>\n",
        "      <th>monetary_value</th>\n",
        "      <th>frequency</th>\n",
        "    </tr>\n",
        "  </thead>\n",
        "  <tbody>\n",
        "    <tr>\n",
        "      <th>monetary_value</th>\n",
        "      <td>1.000000</td>\n",
        "      <td>0.113884</td>\n",
        "    </tr>\n",
        "    <tr>\n",
        "      <th>frequency</th>\n",
        "      <td>0.113884</td>\n",
        "      <td>1.000000</td>\n",
        "    </tr>\n",
        "  </tbody>\n",
        "</table>\n",
        "</div>"
       ],
       "metadata": {},
       "output_type": "pyout",
       "prompt_number": 18,
       "text": [
        "                monetary_value  frequency\n",
        "monetary_value        1.000000   0.113884\n",
        "frequency             0.113884   1.000000"
       ]
      }
     ],
     "prompt_number": 18
    },
    {
     "cell_type": "code",
     "collapsed": false,
     "input": [
      "# Training the gamma-gamma model on the observation set. And predict the 'conditional expected average lifetime values of individual customers'\n",
      "\n",
      "from lifetimes import GammaGammaFitter\n",
      "\n",
      "ggf = GammaGammaFitter(penalizer_coef = 0)\n",
      "ggf.fit(returning_customers_summary['frequency'],\n",
      "        returning_customers_summary['monetary_value'])\n",
      "\n",
      "print ggf"
     ],
     "language": "python",
     "metadata": {},
     "outputs": [
      {
       "output_type": "stream",
       "stream": "stdout",
       "text": [
        "<lifetimes.GammaGammaFitter: fitted with 946 subjects, p: 6.25, q: 3.74, v: 15.45>\n"
       ]
      }
     ],
     "prompt_number": 19
    },
    {
     "cell_type": "code",
     "collapsed": false,
     "input": [
      "# Estimating avg transaction value\n",
      "\n",
      "print ggf.conditional_expected_average_profit(summary_with_money_value['frequency'],\n",
      "                                              summary_with_money_value['monetary_value']).head(10)"
     ],
     "language": "python",
     "metadata": {},
     "outputs": [
      {
       "output_type": "stream",
       "stream": "stdout",
       "text": [
        "customer_id\n",
        "1     24.658616\n",
        "2     18.911481\n",
        "3     35.171001\n",
        "4     35.171001\n",
        "5     35.171001\n",
        "6     71.462850\n",
        "7     18.911481\n",
        "8     35.171001\n",
        "9     27.282408\n",
        "10    35.171001\n",
        "dtype: float64\n"
       ]
      }
     ],
     "prompt_number": 20
    },
    {
     "cell_type": "code",
     "collapsed": false,
     "input": [
      "print \"Expected conditional average profit: %s, Average profit: %s\" % (\n",
      "ggf.conditional_expected_average_profit(\n",
      "summary_with_money_value['frequency'],\n",
      "summary_with_money_value['monetary_value'].mean()),\n",
      "summary_with_money_value[summary_with_money_value['frequency']>0]['monetary_value'].mean())"
     ],
     "language": "python",
     "metadata": {},
     "outputs": [
      {
       "output_type": "stream",
       "stream": "stdout",
       "text": [
        "Expected conditional average profit: customer_id\n",
        "1       17.876973\n",
        "2       20.515855\n",
        "3       35.171001\n",
        "4       35.171001\n",
        "5       35.171001\n",
        "6       15.324334\n",
        "7       20.515855\n",
        "8       35.171001\n",
        "9       17.876973\n",
        "10      35.171001\n",
        "11      15.782227\n",
        "12      35.171001\n",
        "13      35.171001\n",
        "14      35.171001\n",
        "15      35.171001\n",
        "16      35.171001\n",
        "17      14.966466\n",
        "18      20.515855\n",
        "19      16.772673\n",
        "20      35.171001\n",
        "21      17.876973\n",
        "22      35.171001\n",
        "23      35.171001\n",
        "24      35.171001\n",
        "25      35.171001\n",
        "26      20.515855\n",
        "27      35.171001\n",
        "28      20.515855\n",
        "29      35.171001\n",
        "30      20.515855\n",
        "          ...    \n",
        "2328    20.515855\n",
        "2329    35.171001\n",
        "2330    20.515855\n",
        "2331    35.171001\n",
        "2332    15.782227\n",
        "2333    20.515855\n",
        "2334    35.171001\n",
        "2335    20.515855\n",
        "2336    17.876973\n",
        "2337    35.171001\n",
        "2338    35.171001\n",
        "2339    20.515855\n",
        "2340    17.876973\n",
        "2341    35.171001\n",
        "2342    20.515855\n",
        "2343    35.171001\n",
        "2344    17.876973\n",
        "2345    35.171001\n",
        "2346    20.515855\n",
        "2347    17.876973\n",
        "2348    15.324334\n",
        "2349    20.515855\n",
        "2350    17.876973\n",
        "2351    35.171001\n",
        "2352    35.171001\n",
        "2353    35.171001\n",
        "2354    15.782227\n",
        "2355    35.171001\n",
        "2356    16.165894\n",
        "2357    35.171001\n",
        "Name: frequency, dtype: float64, Average profit: 35.078551797\n"
       ]
      }
     ],
     "prompt_number": 24
    },
    {
     "cell_type": "code",
     "collapsed": false,
     "input": [
      "storming leverage each other better efficient meetings \n",
      "now that we are not a flat organization, what is your philosophy around differing view points and disagreements with strategic decisions?\n",
      "So, frankly, what is it going to be? Is it going be a benovolant dictatorship or a collaborative/discursive democracy?\n",
      "gray's technology, health notes, quick reorder, replenishment\n"
     ],
     "language": "python",
     "metadata": {},
     "outputs": []
    },
    {
     "cell_type": "code",
     "collapsed": false,
     "input": [
      "#Total customer lifetime value is done through discounted cash flow method adjusting for cost of capital\n",
      "\n",
      "#refit the BG model to the summary_with_money_value dataset\n",
      "bgf.fit(summary_with_money_value['frequency'], summary_with_money_value['recency'], summary_with_money_value['T'])\n",
      "\n",
      "print ggf.customer_lifetime_value(\n",
      "bgf, #the model to use to predict the number of future transactions\n",
      "summary_with_money_value['frequency'],\n",
      "summary_with_money_value['recency'],\n",
      "summary_with_money_value['T'],\n",
      "summary_with_money_value['monetary_value'],\n",
      "time = 12, # months\n",
      "discount_rate = 0.7).head(10)"
     ],
     "language": "python",
     "metadata": {},
     "outputs": [
      {
       "output_type": "stream",
       "stream": "stdout",
       "text": [
        "customer_id\n",
        "1      27.535073\n",
        "2       3.568359\n",
        "3       6.598023\n",
        "4       6.598023\n",
        "5       6.598023\n",
        "6     210.596306\n",
        "7       5.294988\n",
        "8       6.598023\n",
        "9      32.905050\n",
        "10      6.598023\n",
        "Name: clv, dtype: float64\n"
       ]
      }
     ],
     "prompt_number": 25
    },
    {
     "cell_type": "code",
     "collapsed": false,
     "input": [],
     "language": "python",
     "metadata": {},
     "outputs": []
    }
   ],
   "metadata": {}
  }
 ]
}